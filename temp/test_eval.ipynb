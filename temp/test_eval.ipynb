{
 "cells": [
  {
   "cell_type": "code",
   "execution_count": 1,
   "id": "71fd3e6a",
   "metadata": {},
   "outputs": [],
   "source": [
    "import sys\n",
    "import os\n",
    "import pickle\n",
    "import json\n",
    "import numpy as np\n",
    "import math\n",
    "from dotenv import load_dotenv\n",
    "from tqdm import tqdm\n",
    "from typing import List, Set, Tuple, Dict\n",
    "# from sklearn.metrics import average_precision_score\n",
    "# from sklearn.metrics import precision_score, recall_score, f1_score\n",
    "import math\n",
    "import time\n",
    "\n",
    "project_root = os.path.abspath(os.path.join(os.getcwd(), '..'))\n",
    "if project_root not in sys.path:\n",
    "    sys.path.append(project_root)\n",
    "\n",
    "load_dotenv(dotenv_path=project_root)\n",
    "\n",
    "from database_connector.qdrant_connector import connect_to_qdrant, search_points\n",
    "from preprocessing.preprocessing import LSASVDPipeline, WordEmbeddingPipeline"
   ]
  },
  {
   "cell_type": "code",
   "execution_count": 2,
   "id": "62c58781",
   "metadata": {},
   "outputs": [
    {
     "name": "stdout",
     "output_type": "stream",
     "text": [
      "Length of evaluation dataset: 2113\n"
     ]
    }
   ],
   "source": [
    "# Load dada\n",
    "dataset = json.load(open(\"./set_with_query.json\", \"rb\"))\n",
    "print(f\"Length of evaluation dataset: {len(dataset)}\")\n",
    "\n",
    "eval_dataset = []\n",
    "for data in dataset:\n",
    "    eval_dataset.append({\n",
    "        \"query\": data['query'],\n",
    "        \"label\": data['film_name']\n",
    "    })\n",
    "\n",
    "# # Check some samples \n",
    "# eval_dataset[:5]"
   ]
  },
  {
   "cell_type": "code",
   "execution_count": 3,
   "id": "2ef25270",
   "metadata": {},
   "outputs": [],
   "source": [
    "def load_model(model_path: str):\n",
    "    \"\"\"Function to load embeding model from model path.\"\"\"\n",
    "    try:\n",
    "        with open(model_path, 'rb') as f:\n",
    "            embedder = pickle.load(f)\n",
    "        \n",
    "        return embedder\n",
    "    except Exception as e:\n",
    "        print(f\"Got an error when loading model: {e}\")\n",
    "        raise\n",
    "\n",
    "# Config model path\n",
    "model_path = os.path.join(project_root, \"embedding\", \"trained_models\", \"tfidf.pkl\")"
   ]
  },
  {
   "cell_type": "code",
   "execution_count": 4,
   "id": "b05462a8",
   "metadata": {},
   "outputs": [],
   "source": [
    "def dcg_score(relevance):\n",
    "    return sum(rel / math.log2(idx + 2) for idx, rel in enumerate(relevance))\n",
    "\n",
    "def ndcg_score(relevance, k):\n",
    "    dcg = dcg_score(relevance[:k])\n",
    "    ideal = dcg_score(sorted(relevance, reverse=True)[:k])\n",
    "    return dcg / ideal if ideal > 0 else 0.0"
   ]
  },
  {
   "cell_type": "code",
   "execution_count": 5,
   "id": "f33f0440",
   "metadata": {},
   "outputs": [],
   "source": [
    "def evaluate_retrieval_system(eval_dataset, embedding_model, preprocessor, qdrant_client, collection_name, top_k=10) -> Dict[str, float]:\n",
    "    \"\"\"\n",
    "    Evaluate the retrieval system with metrics: Precision@k, Recall@k, F1@k, MRR, MAP, nDCG@k, average query time.\n",
    "    \"\"\"\n",
    "    precision_list, recall_list, f1_list = [], [], []\n",
    "    mrr_list, ap_list, ndcg_list = [], [], []\n",
    "    retrieve_time = []\n",
    "\n",
    "    for data in tqdm(eval_dataset, desc=\"Evaluating...\"):\n",
    "        true_label = data['label']\n",
    "        query = data['query']\n",
    "\n",
    "        # Embedding\n",
    "        if hasattr(preprocessor, \"preprocess_single_text\"):\n",
    "            query = preprocessor.preprocess_single_text(query)\n",
    "        elif hasattr(preprocessor, \"preprocess\"):\n",
    "            query = preprocessor.preprocess(query)\n",
    "        else:\n",
    "            raise Exception(\"Invalid preprocessor!!!\")\n",
    "        \n",
    "        # query_vector = embedding_model.transform(query) \n",
    "        query_vector = embedding_model.transform_doc([query]).flatten()\n",
    "\n",
    "        # Query Qdrant\n",
    "        start_time = time.time()\n",
    "        search_results = search_points(\n",
    "            qdrant_client=qdrant_client,\n",
    "            collection_name=collection_name,\n",
    "            query_vector=query_vector,\n",
    "            limit=top_k\n",
    "        )\n",
    "        end_time = time.time()\n",
    "\n",
    "        # Extract labels\n",
    "        search_label = [\n",
    "            res.payload['metadata']['film_name'] for res in search_results\n",
    "        ]\n",
    "        relevance_binary = [1 if label == true_label else 0 for label in search_label]\n",
    "\n",
    "        # Precision, Recall, F1\n",
    "        tp = sum(relevance_binary)\n",
    "        precision = tp / top_k\n",
    "        recall = 1.0 if true_label in search_label else 0.0\n",
    "        f1 = (2 * precision * recall) / (precision + recall) if (precision + recall) else 0\n",
    "\n",
    "        # MRR\n",
    "        rr = 0.0\n",
    "        for idx, rel in enumerate(relevance_binary):\n",
    "            if rel:\n",
    "                rr = 1.0 / (idx + 1)\n",
    "                break\n",
    "\n",
    "        # AP\n",
    "        try:\n",
    "            correct_idx = search_label.index(true_label)\n",
    "            ap = 1 / (correct_idx + 1)\n",
    "        except ValueError:\n",
    "            ap = 0.0\n",
    "\n",
    "        # nDCG\n",
    "        ndcg = ndcg_score(relevance_binary, top_k)\n",
    "\n",
    "        # Save results\n",
    "        precision_list.append(precision)\n",
    "        recall_list.append(recall)\n",
    "        f1_list.append(f1)\n",
    "        mrr_list.append(rr)\n",
    "        ap_list.append(ap)\n",
    "        ndcg_list.append(ndcg)\n",
    "        retrieve_time.append(end_time - start_time)\n",
    "\n",
    "    return {\n",
    "        f'Precision@{top_k}': sum(precision_list) / len(precision_list),\n",
    "        f'Recall@{top_k}': sum(recall_list) / len(recall_list),\n",
    "        f'F1@{top_k}': sum(f1_list) / len(f1_list),\n",
    "        'MRR': sum(mrr_list) / len(mrr_list),\n",
    "        'MAP': sum(ap_list) / len(ap_list),\n",
    "        f'nDCG@{top_k}': sum(ndcg_list) / len(ndcg_list),\n",
    "        'Retrieve time': sum(retrieve_time) / len(retrieve_time)\n",
    "    }"
   ]
  },
  {
   "cell_type": "code",
   "execution_count": 6,
   "id": "b8e0a099",
   "metadata": {},
   "outputs": [
    {
     "name": "stdout",
     "output_type": "stream",
     "text": [
      "Successfully connected to Qdrant!\n"
     ]
    },
    {
     "name": "stderr",
     "output_type": "stream",
     "text": [
      "Evaluating...: 100%|██████████| 2113/2113 [08:27<00:00,  4.16it/s]"
     ]
    },
    {
     "name": "stdout",
     "output_type": "stream",
     "text": [
      "--- Evaluation results ---\n",
      "{'Precision@10': 0.07174633222905617, 'Recall@10': 0.7141504969238051, 'F1@10': 0.1303474881326305, 'MRR': 0.5617873857225493, 'MAP': 0.5617873857225493, 'nDCG@10': 0.5983138708047724, 'Retrieve time': 0.23562045927810488}\n"
     ]
    },
    {
     "name": "stderr",
     "output_type": "stream",
     "text": [
      "\n"
     ]
    }
   ],
   "source": [
    "# Load preprocessor\n",
    "preprocessor = LSASVDPipeline()\n",
    "\n",
    "# Load embedding model\n",
    "embedding_model = load_model(model_path)\n",
    "\n",
    "# Connect to qdrant client \n",
    "qdrant_client = connect_to_qdrant(\n",
    "    qdrant_uri=os.getenv(\"QDRANT_URI\"),\n",
    "    api_key=os.getenv(\"QDRANT_API_KEY\")\n",
    ")\n",
    "collection_name = \"tfidf\"\n",
    "\n",
    "top_k = 10\n",
    "# Run evaluation\n",
    "results = evaluate_retrieval_system(\n",
    "    eval_dataset=eval_dataset,\n",
    "    embedding_model=embedding_model,\n",
    "    preprocessor=preprocessor,\n",
    "    qdrant_client=qdrant_client,\n",
    "    collection_name=collection_name,\n",
    "    top_k=top_k\n",
    ")\n",
    "\n",
    "# Print the result\n",
    "print(\"--- Evaluation results ---\")\n",
    "print(results)"
   ]
  },
  {
   "cell_type": "code",
   "execution_count": 7,
   "id": "5e24a636",
   "metadata": {},
   "outputs": [
    {
     "data": {
      "image/png": "[encoded data removed]",
      "text/plain": [
       "<Figure size 1000x600 with 1 Axes>"
      ]
     },
     "metadata": {},
     "output_type": "display_data"
    }
   ],
   "source": [
    "import matplotlib.pyplot as plt\n",
    "\n",
    "metric_names = list(results.keys())\n",
    "metric_values = list(results.values())\n",
    "metric_names = [name if name != 'Retrieve time' else 'Retrieve time (s)' for name in metric_names]\n",
    "\n",
    "colors = ['#6A5ACD', '#20B2AA', '#FF8C00', '#DC143C', '#00CED1', '#9370DB', '#2E8B57']\n",
    "\n",
    "plt.figure(figsize=(10, 6))\n",
    "bars = plt.bar(metric_names, metric_values, color=colors, width=0.6, edgecolor='black', linewidth=1.5)\n",
    "\n",
    "for name, bar in zip(metric_names, bars):\n",
    "    yval = bar.get_height()\n",
    "    unit = \" s\" if \"Retrieve\" in name else \"\"\n",
    "    plt.text(bar.get_x() + bar.get_width()/2, yval + 0.01, f\"{yval:.3f}{unit}\",\n",
    "             ha='center', fontsize=12)\n",
    "\n",
    "plt.title(\"Retrieval Evaluation Metrics\", fontsize=16, weight='bold')\n",
    "plt.xticks(fontsize=12)\n",
    "plt.ylabel(\"Score\", fontsize=12)\n",
    "plt.ylim(0, 1.1 if max(metric_values) <= 1 else max(metric_values) + 0.2)\n",
    "plt.grid(axis='y', linestyle='--', alpha=0.5)\n",
    "\n",
    "plt.tight_layout()\n",
    "plt.show()\n"
   ]
  },
  {
   "cell_type": "code",
   "execution_count": null,
   "id": "4610e251",
   "metadata": {},
   "outputs": [],
   "source": []
  }
 ],
 "metadata": {
  "kernelspec": {
   "display_name": "film_search_env",
   "language": "python",
   "name": "python3"
  },
  "language_info": {
   "codemirror_mode": {
    "name": "ipython",
    "version": 3
   },
   "file_extension": ".py",
   "mimetype": "text/x-python",
   "name": "python",
   "nbconvert_exporter": "python",
   "pygments_lexer": "ipython3",
   "version": "3.11.6"
  }
 },
 "nbformat": 4,
 "nbformat_minor": 5
}
