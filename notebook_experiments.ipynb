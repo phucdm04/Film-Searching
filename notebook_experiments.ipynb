{
 "cells": [
  {
   "cell_type": "code",
   "execution_count": 13,
   "id": "a72a230d",
   "metadata": {},
   "outputs": [
    {
     "name": "stdout",
     "output_type": "stream",
     "text": [
      "Successfully connected to Qdrant!\n"
     ]
    }
   ],
   "source": [
    "import os\n",
    "from database_connector.qdrant_connector import connect_to_qdrant\n",
    "from dotenv import load_dotenv\n",
    "load_dotenv()\n",
    "\n",
    "qdrant_client = connect_to_qdrant(os.getenv(\"QDRANT_URI\"), os.getenv(\"QDRANT_API_KEY\"))"
   ]
  },
  {
   "cell_type": "code",
   "execution_count": 14,
   "id": "5ec96439",
   "metadata": {},
   "outputs": [
    {
     "name": "stdout",
     "output_type": "stream",
     "text": [
      "Pinged your deployment. You successfully connected to MongoDB!\n",
      "Database 'Film' connected successfully!\n",
      "Collection 'lsa_svd_preprocessed' connected successfully!\n",
      "Total documents: 9504\n"
     ]
    }
   ],
   "source": [
    "from database_connector.mongodb_connector import connect_to_mongodb, get_all_documents, get_collection, get_database\n",
    "\n",
    "mongo_client = connect_to_mongodb(os.getenv(\"MONGO_URI\"))\n",
    "database = get_database(mongo_client, os.getenv(\"DATABASE_NAME\"))\n",
    "collection = get_collection(database, os.getenv(\"LSA_COLLECTION_NAME\"))\n",
    "all_documents = get_all_documents(collection)\n",
    "print(f\"Total documents: {len(all_documents)}\")"
   ]
  },
  {
   "cell_type": "code",
   "execution_count": 15,
   "id": "b7844586",
   "metadata": {},
   "outputs": [
    {
     "name": "stdout",
     "output_type": "stream",
     "text": [
      "Corpus length: 10\n",
      "Test some samples: \n"
     ]
    },
    {
     "data": {
      "text/plain": [
       "['bertram bracken mary elizabeth braddon mary murillo mrs. henry wood isabel carlisl mistakenli believ husband richard love barbara hare leav two children noth correct report kill train wreck richard believ widow marri barbara month isabel long see children disguis get job gover son becom ill call mother isabel throw disguis goe comfort die arm discov isabel boy richard immedi forgiv left children isabel forgiv soon die grief',\n",
       " 'frank lloyd leo ditrichstein fanny hatton frederic hatton j.e. nash ethel warren return studi europ make debut new york opera compani jean paurel world famou bariton star carlo sonino also member compani fall love ethel warn becom infatu amor singer paurel becom enchant ethel arous jealousi compani prima donna sabotini first act ethel hear paurel suffer attack throat rush backstag carlo urg sabotini follow make scene whereupon ethel indignantli announc engag paurel paurel unabl perform second act carlo take place vault stardom paurel diagnos never abl sing bianca retir singer paurel first love reveal carlo son plead singer give ethel boy sake much soul search paurel refut selfish way agre thu free ethel pledg marri',\n",
       " 'e. magnus ingleton e. magnus ingleton i.a.r. wylie careless part johnni robert grow drudgeri marri life caus estrang johnni wife mari final break come johnni sick fever return home accus drunken mari johnni leav wife seek solac ann innkeep daughter two live happili togeth outbreak war england threaten johnni enlist sent front meantim mari littl babi seek ann ask husband money take care child mutual understand spring two women upon johnni arriv home self sacrif ann disappear johnni return wife child',\n",
       " 'harry lambart cyrus townsend brady eugene mullin miss olivia martindal dinner announc longer romanc american life immedi arous storm protest nevertheless describ assembl compani day old men scale height hazard win women ad way would wish woo even stroll ground muffl figur step seiz forc wait race car bermuda apart unknown unmask prove handsom gentleman immacul even cloth quietli escort chair hand polic whistl pistol reassur beg listen say bid call anxiou rel simpli tell safe ask come get without polic attract man magnet person glamour adventur obey tell seen far west face guid rough gold mine camp life wrest fortun hill come east meet narr take right present girl sway overpow emot aris plead suit eloqu passion surrend see eye dawn love sweep arm kiss door burst open martindal other enter olivia calmli introduc ask gentleman name billi william well known millionair speechless papa fianc',\n",
       " 'herbert blaché george d. baker wallace irwin attend lectur harriet peebl cull hortens troutt stenograph wealthi cloth manufactur saul shilpick becom convinc one thousand downtrodden slave labor saul shilpick love hortens ignor hortens suddenli quit job join comrad harriet uplift harriet share home hortens infatu new mission realiz becom even downtrodden labor gener servant harriet hortens believ love larri holden free loader reform actual alreadi marri practic free love shilpick disguis convert rescu hortens uplift win love']"
      ]
     },
     "execution_count": 15,
     "metadata": {},
     "output_type": "execute_result"
    }
   ],
   "source": [
    "def normalize_text_field(doc):\n",
    "    directors_raw = doc['metadata'].get('directors')\n",
    "    writers_raw = doc['metadata'].get('writers')\n",
    "\n",
    "    # Nếu là None thì thay bằng chuỗi rỗng\n",
    "    directors = \" \".join([d.strip().lower() for d in directors_raw.split(',')]) if directors_raw else \"\"\n",
    "    writers = \" \".join([w.strip().lower() for w in writers_raw.split(',')]) if writers_raw else \"\"\n",
    "\n",
    "    description = doc.get('cleaned_description', '')\n",
    "    description = description.lower() if description else \"\"\n",
    "\n",
    "    return f\"{directors} {writers} {description}\"\n",
    "\n",
    "corpus = []\n",
    "for doc in all_documents[:10]:\n",
    "    text = normalize_text_field(doc)\n",
    "    corpus.append(text)\n",
    "\n",
    "print(f\"Corpus length: {len(corpus)}\")\n",
    "print(f'Test some samples: ')\n",
    "corpus[:5]"
   ]
  },
  {
   "cell_type": "markdown",
   "id": "e3410c93",
   "metadata": {},
   "source": [
    "# Bag Of Words"
   ]
  },
  {
   "cell_type": "code",
   "execution_count": 16,
   "id": "04cbc511",
   "metadata": {},
   "outputs": [],
   "source": [
    "# from models.bow import BagOfWords\n",
    "\n",
    "# print(f\"Small corpus length: {len(corpus)}\")\n",
    "\n",
    "# # Initialize model\n",
    "# bow = BagOfWords(\n",
    "#     min_word_freq=1,\n",
    "#     max_features=100,\n",
    "#     tokenizer='whitespace'\n",
    "# )\n",
    "\n",
    "# bow_matrix = bow.fit_transform(corpus)"
   ]
  },
  {
   "cell_type": "code",
   "execution_count": 17,
   "id": "3e6035d3",
   "metadata": {},
   "outputs": [],
   "source": [
    "# for i, doc in enumerate(corpus):\n",
    "#     print(f\"\\nDocument {i+1}: '{doc}'\")\n",
    "#     print(f\"Tokens: {bow.get_document_tokens(doc)}\")\n",
    "#     print(f\"Vector: {bow_matrix[i]}\")"
   ]
  },
  {
   "cell_type": "code",
   "execution_count": 18,
   "id": "a02f9654",
   "metadata": {},
   "outputs": [],
   "source": [
    "# bow.print_vocabulary_info()"
   ]
  },
  {
   "cell_type": "markdown",
   "id": "be9d0f76",
   "metadata": {},
   "source": [
    "# Dimensionality Reduction by SVD"
   ]
  },
  {
   "cell_type": "code",
   "execution_count": 19,
   "id": "e97770ee",
   "metadata": {},
   "outputs": [],
   "source": [
    "# from models.dim_reduc import SVDModel\n",
    "\n",
    "# dim_reduc_model = SVDModel(n_components=50, random_state=11)\n",
    "# matrix =  dim_reduc_model.fit_transform(bow_matrix)\n",
    "# matrix.shape, bow_matrix.shape, small_documents.shape"
   ]
  },
  {
   "cell_type": "markdown",
   "id": "a9055aa4",
   "metadata": {},
   "source": [
    "# Final Model"
   ]
  },
  {
   "cell_type": "code",
   "execution_count": 20,
   "id": "cd973007",
   "metadata": {},
   "outputs": [],
   "source": [
    "from embedding.bow_svd_model.final_model import BOW_SVD_Embedding\n",
    "\n",
    "model_config = {\n",
    "    'bow_args': {\n",
    "        'min_word_freq': 1,\n",
    "        'max_features': None,\n",
    "        'tokenizer': 'whitespace'\n",
    "    },\n",
    "    'dim_reduc_args': {\n",
    "        'n_components': 1830,\n",
    "    }\n",
    "}\n",
    "\n",
    "model = BOW_SVD_Embedding(\n",
    "    bow_args=model_config.get('bow_args', None),\n",
    "    dim_reduc_args=model_config.get('dim_reduc_args', None)\n",
    ")"
   ]
  },
  {
   "cell_type": "code",
   "execution_count": 21,
   "id": "1f816083",
   "metadata": {},
   "outputs": [
    {
     "data": {
      "text/plain": [
       "10"
      ]
     },
     "execution_count": 21,
     "metadata": {},
     "output_type": "execute_result"
    }
   ],
   "source": [
    "embedding_reduc_matrix = model.fit_transform(corpus)\n",
    "len(embedding_reduc_matrix)"
   ]
  },
  {
   "cell_type": "code",
   "execution_count": 22,
   "id": "abf2c481",
   "metadata": {},
   "outputs": [],
   "source": [
    "import pickle\n",
    "SAVED_MODEL_ROOT = \"./embedding/trained_models/\"\n",
    "os.makedirs(SAVED_MODEL_ROOT, exist_ok=True)\n",
    "model_path = os.path.join(SAVED_MODEL_ROOT, f\"{BOW_SVD_Embedding.__name__}.pkl\")\n",
    "with open(model_path, \"wb\") as f:\n",
    "    pickle.dump(model, f)"
   ]
  },
  {
   "cell_type": "code",
   "execution_count": 23,
   "id": "49dcc2f1",
   "metadata": {},
   "outputs": [
    {
     "data": {
      "text/plain": [
       "[QdrantPoint(id='0feff71e-1b18-4902-b156-3175eac71153', text='bertram bracken mary elizabeth braddon mary murillo mrs. henry wood isabel carlisl mistakenli believ husband richard love barbara hare leav two children noth correct report kill train wreck richard believ widow marri barbara month isabel long see children disguis get job gover son becom ill call mother isabel throw disguis goe comfort die arm discov isabel boy richard immedi forgiv left children isabel forgiv soon die grief', metadata=FilmMetadata(film_name='East Lynne', image_link=HttpUrl('https://m.media-amazon.com/images/M/MV5BM2E3MDgzNjItZjMzYi00ZWZiLTgwMWMtNWM2ZDAwOTg0MzBhXkEyXkFqcGc@.jpg'), is_adult=0, start_year=1916, runtime_minutes=50, genres='Drama', rating=5.5, votes=51, directors='Bertram Bracken', writers='Mary Elizabeth Braddon, Mary Murillo, Mrs. Henry Wood'), vector=[2.663046548657961, 0.11267661880407047, 1.8767893606708848, 1.7631481455839306, 0.8192620800186554, 1.9602964836172254, 0.12196189580306395, 7.915484589831899, 5.028989333486394]),\n",
       " QdrantPoint(id='a9bd17e7-23d8-41c2-9606-ad304e2cb0fc', text='frank lloyd leo ditrichstein fanny hatton frederic hatton j.e. nash ethel warren return studi europ make debut new york opera compani jean paurel world famou bariton star carlo sonino also member compani fall love ethel warn becom infatu amor singer paurel becom enchant ethel arous jealousi compani prima donna sabotini first act ethel hear paurel suffer attack throat rush backstag carlo urg sabotini follow make scene whereupon ethel indignantli announc engag paurel paurel unabl perform second act carlo take place vault stardom paurel diagnos never abl sing bianca retir singer paurel first love reveal carlo son plead singer give ethel boy sake much soul search paurel refut selfish way agre thu free ethel pledg marri', metadata=FilmMetadata(film_name='The Great Lover', image_link=HttpUrl('https://m.media-amazon.com/images/M/MV5BM2E3MTJkMTYtODdkYy00ODczLWEwMzQtZWQ4NzdjOTY2NWZiXkEyXkFqcGc@.jpg'), is_adult=0, start_year=1920, runtime_minutes=60, genres='Drama', rating=None, votes=None, directors='Frank Lloyd', writers='Leo Ditrichstein, Fanny Hatton, Frederic Hatton, J.E. Nash'), vector=[3.5595624598107882, -11.38901675589452, -8.100478415096509, -2.2073691714224353, -0.06567047494696035, -1.217211018208094, 0.14635437894286896, -0.1271830952592222, 0.12677853993463886]),\n",
       " QdrantPoint(id='cbfbe516-a05f-42cd-b7f6-ef580e59c48a', text='e. magnus ingleton e. magnus ingleton i.a.r. wylie careless part johnni robert grow drudgeri marri life caus estrang johnni wife mari final break come johnni sick fever return home accus drunken mari johnni leav wife seek solac ann innkeep daughter two live happili togeth outbreak war england threaten johnni enlist sent front meantim mari littl babi seek ann ask husband money take care child mutual understand spring two women upon johnni arriv home self sacrif ann disappear johnni return wife child', metadata=FilmMetadata(film_name='The Birth of Patriotism', image_link=HttpUrl('https://m.media-amazon.com/images/M/MV5BM2E5MzQzOWEtNTgyMC00ZWYwLWJhOTktYWRmMGUxZTYwZGRmXkEyXkFqcGc@.jpg'), is_adult=0, start_year=1917, runtime_minutes=50, genres='Drama,War', rating=None, votes=None, directors='E. Magnus Ingleton', writers='E. Magnus Ingleton, I.A.R. Wylie'), vector=[1.8109644703786365, 1.0060344698749266, 3.2395591547697875, 0.6581483081326913, 7.072865127198855, -7.507707267728651, 3.8149234084629677, -1.641302647854451, 0.5931231743538201]),\n",
       " QdrantPoint(id='8b6aa299-476f-4a4a-b25e-195832b3d7db', text='harry lambart cyrus townsend brady eugene mullin miss olivia martindal dinner announc longer romanc american life immedi arous storm protest nevertheless describ assembl compani day old men scale height hazard win women ad way would wish woo even stroll ground muffl figur step seiz forc wait race car bermuda apart unknown unmask prove handsom gentleman immacul even cloth quietli escort chair hand polic whistl pistol reassur beg listen say bid call anxiou rel simpli tell safe ask come get without polic attract man magnet person glamour adventur obey tell seen far west face guid rough gold mine camp life wrest fortun hill come east meet narr take right present girl sway overpow emot aris plead suit eloqu passion surrend see eye dawn love sweep arm kiss door burst open martindal other enter olivia calmli introduc ask gentleman name billi william well known millionair speechless papa fianc', metadata=FilmMetadata(film_name='The Heights of Hazard', image_link=HttpUrl('https://m.media-amazon.com/images/M/MV5BM2EwNzBmMTktMWY1Yy00ZWIzLTlkNjQtOGNmMWE2NmI5MjJiXkEyXkFqcGc@.jpg'), is_adult=0, start_year=1915, runtime_minutes=50, genres='Drama', rating=None, votes=None, directors='Harry Lambart', writers='Cyrus Townsend Brady, Eugene Mullin'), vector=[1.2547828760021689, -0.05837327619562614, 2.6413578666091286, 4.512561948101459, -9.403327103089499, -4.704881796337142, 0.8953573211894755, -1.040566532695216, 0.22183104605187884]),\n",
       " QdrantPoint(id='fea40f7f-afd8-4cc9-8a19-55104ddbad55', text='herbert blaché george d. baker wallace irwin attend lectur harriet peebl cull hortens troutt stenograph wealthi cloth manufactur saul shilpick becom convinc one thousand downtrodden slave labor saul shilpick love hortens ignor hortens suddenli quit job join comrad harriet uplift harriet share home hortens infatu new mission realiz becom even downtrodden labor gener servant harriet hortens believ love larri holden free loader reform actual alreadi marri practic free love shilpick disguis convert rescu hortens uplift win love', metadata=FilmMetadata(film_name='The Uplifters', image_link=HttpUrl('https://m.media-amazon.com/images/M/MV5BM2EzYTg4MTktYjAyNi00ODNmLTk3MjUtNWQ3MzQxZTY1OGY5XkEyXkFqcGc@.jpg'), is_adult=0, start_year=1919, runtime_minutes=50, genres='Comedy,Romance', rating=7.6, votes=13, directors='Herbert Blaché', writers='George D. Baker, Wallace Irwin'), vector=[3.0632949446463025, -0.7678606476114572, 1.30845176179507, 4.251957072345645, 1.0484831471333786, 7.7184279137933425, 4.521850852176389, -4.761303585573193, 1.120194543984149]),\n",
       " QdrantPoint(id='092e147f-ea66-40bf-8dc9-b8277ce8b2be', text='  know examin made book reveal pecul cadwel confess daughter enlist aid sweetheart employ offic dori save father disgrac result howev crime shift shoulder boy sent prison although hall employ believ innoc later cadwel compel dori becom engag lane man wealth determin wed one dori fascin harri one prison guard induc aid plan free turn promis becom harri wife escap jail aid keeper two join dori make break liberti girl auto pursuit taken run fight ensu harri meet death cadwel learn escap bring captur fugit dori wed hunt two verg desper accident meet hall resolv shield father longer dori tell hall truth latter promptli take girl escap prison see friend governor cadwel present interview father denounc dori stori slip tongu reveal truth real culprit overtaken retribut dori know happi', metadata=FilmMetadata(film_name='The Coquette', image_link=HttpUrl('https://m.media-amazon.com/images/M/MV5BM2ExZjc1M2QtNWE4MS00NmY2LTkzNmEtNzc2MjA2MmFlMDY1XkEyXkFqcGc@.jpg'), is_adult=0, start_year=1915, runtime_minutes=None, genres='Drama', rating=None, votes=None, directors=None, writers=None), vector=[2.0808570354429095, 10.32172093565499, -9.74185992041227, -1.1118950376501107, -0.485839494839981, -0.27856741337216717, -0.18421597681281307, -0.5897809276738597, 0.5536684509006164]),\n",
       " QdrantPoint(id='6c6d0c1d-02f9-4a3a-b48e-c98001dded55', text='chester withey alice eyton juliet wilbur tompkins geneviev rutherford hale pamper youngest child read advertis women work farm increas food product world war modist make silk overal geneviev model russian ballet attir arriv hubbard ranch new york state chauffeur maid pet dog farmerett geneviev find chore difficult girl unfriendli bobbi youngest hubbard discov offic train camp equal discourag although tempt desert bobbi leav one night see home find geneviev cri potato patch togeth resolv patriot duti pri neighbor see togeth tell hubbard geneviev soldier geneviev remain silent bobbi ident banish ranch bobbi get furlough explain matter hubbard apolog geneviev bobbi propos plan marri return', metadata=FilmMetadata(film_name='Little Comrade', image_link=HttpUrl('https://m.media-amazon.com/images/M/MV5BM2E4OWRkM2ItNGQ5MS00NzVhLWE4ZGEtMjhkODQxNGY3MzU5XkEyXkFqcGc@.jpg'), is_adult=0, start_year=1919, runtime_minutes=50, genres='Comedy', rating=None, votes=None, directors='Chester Withey', writers='Alice Eyton, Juliet Wilbur Tompkins'), vector=[2.9274468037279235, 1.0977287994424434, 5.285395052406297, -10.890987249701695, -2.412406800135467, 1.5036503987234064, 1.0284190879984973, -0.7379556240995092, -0.05609943342944662]),\n",
       " QdrantPoint(id='1792fe7e-874f-4466-a650-b554b6b65f13', text='carl harbaugh carl harbaugh george scarborough celest hardin want set brother henri confirm bachelor colleg friend henrietta down believ wold good wife henri henrietta discov celest scheme decid play trick henrietta pose myra hayn escap lunat pretend love henri howev real myra hayn attend polit ralli henri declar intent run mayor becom convinc long lost lover also name henri complic ensu', metadata=FilmMetadata(film_name='All for a Husband', image_link=HttpUrl('https://m.media-amazon.com/images/M/MV5BM2E4OWYzMjUtNmU1NC00OTNmLWIwOTMtOWM0MTZiYzQyMTI2XkEyXkFqcGc@.jpg'), is_adult=0, start_year=1917, runtime_minutes=60, genres='Comedy', rating=None, votes=None, directors='Carl Harbaugh', writers='Carl Harbaugh, George Scarborough'), vector=[2.9738136150200987, 0.5333845141667264, 1.070089188303207, 1.9257706098875824, 1.0737866432507914, 1.5491751933522258, -0.03020594425586106, 3.7073291011681704, -8.278290115233887]),\n",
       " QdrantPoint(id='3f3975de-5623-43a2-b2fb-1944d6e88bd7', text='george melford beulah marie dix cosmo hamilton marcel middleton small town parent sacrific send fashion finish school friend noel parkton invit new york marcel father mortgag hous buy expens cloth noel lover proposit marcel noel ask leav marcel receiv word parent die automobil accid goe aunt hous feel like unpaid servant return new york left famili although luck bridg good first soon lose everyth cleveland buchanan cynic millionair offer pay debt indignantli refus work model live errand girl kati help care invalid brother stung reject cleveland chang life help establish summer camp poor boy take kati brother thu cure cleveland marcel respect marri', metadata=FilmMetadata(film_name='Men, Women, and Money', image_link=HttpUrl('https://m.media-amazon.com/images/M/MV5BM2EwZTc2ZWUtN2NiYS00MjI4LTk3OTctNmZhZGQ1NDdjMjlkXkEyXkFqcGc@.jpg'), is_adult=0, start_year=1919, runtime_minutes=50, genres='Drama', rating=None, votes=None, directors='George Melford', writers='Beulah Marie Dix, Cosmo Hamilton'), vector=[2.742286687385743, -0.2011851589820531, 2.6385708021707215, 1.4371649452700006, 2.0529969275856788, 0.35169926436963145, -10.19755151232782, -2.7994219665984454, 0.8102964563193839]),\n",
       " QdrantPoint(id='9b2f94c0-d601-4605-8924-974da7927d28', text='allan dwan allan dwan robert shirley naomi girl studio new york artist quarter possess superabund vital desir continu frolic adventur one night gay parti naomi effervesc spirit deceiv one men think far unconvent idea companion tell sort girl think insist prove even make wager effect trick naomi realli quit unsophist accompani hotel question reput two innoc wrongdo captur polic raid naomi unpleas experi night court friend come aid releas long freder harmon broker come life two fall love marri birth babi complet naomi charact care child husband home husband howev settl home life still much inclin gaieti set becom acquaint naomi refus take part revel bohemian crowd goe forth soon meet helen carew woman past without conscienc fascin partli amus partli mercenari reason eventu harmon infatu woman becom known naomi heartbroken particularli harmon ask divorc marri helen refus helen anxiou get man entir clutch enter plot crook detect wherebi naomi caught compromis situat thu give husband ground divorc detect pick convict sing sing mean decoy messag naomi induc hotel room man sing sing wait two room togeth raid newspap report photograph flashlight naomi arm convict obtain husband bring suit divorc offer evid stori wit raid flashlight photograph also ask custodi child naomi startl judg spectat declar allow keep child harmon father judg howev suspect naomi sacrif reput order keep babi call privat offic get truth meantim unexpect develop affair helen man sing sing lover went prison unpleasantli surpris detect use bring life convict helen room tri renew old associ harmon come see helen hastili hide jailbird talk harmon convict come tell harmon woman past connect horrifi revel helen true charact harmon goe life forev cours time succe win way back home', metadata=FilmMetadata(film_name='Fifty-Fifty', image_link=HttpUrl('https://m.media-amazon.com/images/M/MV5BM2EzNjNmM2YtNjE5ZS00OGNmLTgxZDAtOTdlMGNiOTViYmU5XkEyXkFqcGc@.jpg'), is_adult=0, start_year=1916, runtime_minutes=55, genres='Drama', rating=5.2, votes=41, directors='Allan Dwan', writers='Allan Dwan, Robert Shirley'), vector=[-23.076055441072537, -0.6551094992595796, -0.21787485121631078, -0.33849957054705915, 0.2998499478245025, 0.6251182417901991, -0.11689351117677435, 0.07470068875384062, -0.12049199636750445])]"
      ]
     },
     "execution_count": 23,
     "metadata": {},
     "output_type": "execute_result"
    }
   ],
   "source": [
    "from preprocessing.data_models import QdrantPoint\n",
    "\n",
    "list_of_points = []\n",
    "for idx in range(len(embedding_reduc_matrix)):\n",
    "    point = QdrantPoint(\n",
    "        text = corpus[idx],\n",
    "        vector = embedding_reduc_matrix[idx],\n",
    "        metadata = all_documents[idx]['metadata']\n",
    "    )\n",
    "    list_of_points.append(point)\n",
    "\n",
    "list_of_points"
   ]
  },
  {
   "cell_type": "code",
   "execution_count": 24,
   "id": "3f3127e8",
   "metadata": {},
   "outputs": [],
   "source": [
    "# from database_connector.qdrant_connector import insert_points_batch_to_qdrant\n",
    "\n",
    "# insert_points_batch_to_qdrant(\n",
    "#     qdrant_client=qdrant_client,\n",
    "#     collection_name=os.getenv(\"QDRANT_BOW_COLLECTION\"),\n",
    "#     qdrant_points=list_of_points\n",
    "# )   "
   ]
  }
 ],
 "metadata": {
  "kernelspec": {
   "display_name": "base",
   "language": "python",
   "name": "python3"
  },
  "language_info": {
   "codemirror_mode": {
    "name": "ipython",
    "version": 3
   },
   "file_extension": ".py",
   "mimetype": "text/x-python",
   "name": "python",
   "nbconvert_exporter": "python",
   "pygments_lexer": "ipython3",
   "version": "3.12.4"
  }
 },
 "nbformat": 4,
 "nbformat_minor": 5
}
