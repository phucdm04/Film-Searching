{
 "cells": [
  {
   "cell_type": "code",
   "execution_count": 5,
   "id": "a72a230d",
   "metadata": {},
   "outputs": [
    {
     "name": "stdout",
     "output_type": "stream",
     "text": [
      "Successfully connected to Qdrant!\n"
     ]
    }
   ],
   "source": [
    "import os\n",
    "from database_connector.qdrant_connector import connect_to_qdrant\n",
    "from dotenv import load_dotenv\n",
    "load_dotenv()\n",
    "\n",
    "qdrant_client = connect_to_qdrant(os.getenv(\"QDRANT_URI\"), os.getenv(\"QDRANT_API_KEY\"))"
   ]
  },
  {
   "cell_type": "code",
   "execution_count": 6,
   "id": "5ec96439",
   "metadata": {},
   "outputs": [
    {
     "name": "stdout",
     "output_type": "stream",
     "text": [
      "Pinged your deployment. You successfully connected to MongoDB!\n",
      "Database 'Film' connected successfully!\n",
      "Collection 'lsa_svd_preprocessed' connected successfully!\n",
      "Total documents: 9504\n"
     ]
    }
   ],
   "source": [
    "from database_connector.mongodb_connector import connect_to_mongodb, get_all_documents, get_collection, get_database\n",
    "\n",
    "mongo_client = connect_to_mongodb(os.getenv(\"MONGO_URI\"))\n",
    "database = get_database(mongo_client, os.getenv(\"DATABASE_NAME\"))\n",
    "collection = get_collection(database, os.getenv(\"LSA_PRE_COLLECTION\"))\n",
    "all_documents = get_all_documents(collection)\n",
    "print(f\"Total documents: {len(all_documents)}\")"
   ]
  },
  {
   "cell_type": "code",
   "execution_count": 7,
   "id": "30e11390",
   "metadata": {},
   "outputs": [
    {
     "data": {
      "text/plain": [
       "{'_id': ObjectId('6839edbcdba46ba351843140'),\n",
       " 'id': 'tt0006621',\n",
       " 'cleaned_description': 'isabel carlisl mistakenli believ husband richard love barbara hare leav two children noth correct report kill train wreck richard believ widow marri barbara month isabel long see children disguis get job gover son becom ill call mother isabel throw disguis goe comfort die arm discov isabel boy richard immedi forgiv left children isabel forgiv soon die grief',\n",
       " 'metadata': {'film_name': 'East Lynne',\n",
       "  'image_link': 'https://m.media-amazon.com/images/M/MV5BM2E3MDgzNjItZjMzYi00ZWZiLTgwMWMtNWM2ZDAwOTg0MzBhXkEyXkFqcGc@.jpg',\n",
       "  'is_adult': 0,\n",
       "  'start_year': 1916,\n",
       "  'runtime_minutes': 50,\n",
       "  'genres': 'Drama',\n",
       "  'rating': 5.5,\n",
       "  'votes': 51,\n",
       "  'directors': 'Bertram Bracken',\n",
       "  'writers': 'Mary Elizabeth Braddon, Mary Murillo, Mrs. Henry Wood'},\n",
       " 'original_description': 'When Isabel Carlisle mistakenly believes that her husband Richard loves Barbara Hare, she leaves him and their two children. She does nothing to correct the report that she has been killed in a train wreck, and so Richard, believing himself to be a widower, marries Barbara. After a few months, Isabel longs to see her children and so, disguising herself, gets a job as their governess. Then, when her son becomes ill and calls out for his mother, Isabel throws off her disguise and goes to comfort him, but he dies in her arms. Discovering Isabel with the boy, Richard immediately forgives her for having left him and the children, but Isabel cannot forgive herself, and soon dies of grief.'}"
      ]
     },
     "execution_count": 7,
     "metadata": {},
     "output_type": "execute_result"
    }
   ],
   "source": [
    "all_documents[0]"
   ]
  },
  {
   "cell_type": "code",
   "execution_count": 8,
   "id": "b7844586",
   "metadata": {},
   "outputs": [
    {
     "name": "stdout",
     "output_type": "stream",
     "text": [
      "Corpus length: 10\n",
      "Test some samples: \n"
     ]
    },
    {
     "data": {
      "text/plain": [
       "['bertram bracken mary elizabeth braddon mary murillo mrs. henry wood isabel carlisl mistakenli believ husband richard love barbara hare leav two children noth correct report kill train wreck richard believ widow marri barbara month isabel long see children disguis get job gover son becom ill call mother isabel throw disguis goe comfort die arm discov isabel boy richard immedi forgiv left children isabel forgiv soon die grief',\n",
       " 'frank lloyd leo ditrichstein fanny hatton frederic hatton j.e. nash ethel warren return studi europ make debut new york opera compani jean paurel world famou bariton star carlo sonino also member compani fall love ethel warn becom infatu amor singer paurel becom enchant ethel arous jealousi compani prima donna sabotini first act ethel hear paurel suffer attack throat rush backstag carlo urg sabotini follow make scene whereupon ethel indignantli announc engag paurel paurel unabl perform second act carlo take place vault stardom paurel diagnos never abl sing bianca retir singer paurel first love reveal carlo son plead singer give ethel boy sake much soul search paurel refut selfish way agre thu free ethel pledg marri',\n",
       " 'chester withey alice eyton juliet wilbur tompkins geneviev rutherford hale pamper youngest child read advertis women work farm increas food product world war modist make silk overal geneviev model russian ballet attir arriv hubbard ranch new york state chauffeur maid pet dog farmerett geneviev find chore difficult girl unfriendli bobbi youngest hubbard discov offic train camp equal discourag although tempt desert bobbi leav one night see home find geneviev cri potato patch togeth resolv patriot duti pri neighbor see togeth tell hubbard geneviev soldier geneviev remain silent bobbi ident banish ranch bobbi get furlough explain matter hubbard apolog geneviev bobbi propos plan marri return',\n",
       " 'carl harbaugh carl harbaugh george scarborough celest hardin want set brother henri confirm bachelor colleg friend henrietta down believ wold good wife henri henrietta discov celest scheme decid play trick henrietta pose myra hayn escap lunat pretend love henri howev real myra hayn attend polit ralli henri declar intent run mayor becom convinc long lost lover also name henri complic ensu',\n",
       " 'e. magnus ingleton e. magnus ingleton i.a.r. wylie careless part johnni robert grow drudgeri marri life caus estrang johnni wife mari final break come johnni sick fever return home accus drunken mari johnni leav wife seek solac ann innkeep daughter two live happili togeth outbreak war england threaten johnni enlist sent front meantim mari littl babi seek ann ask husband money take care child mutual understand spring two women upon johnni arriv home self sacrif ann disappear johnni return wife child']"
      ]
     },
     "execution_count": 8,
     "metadata": {},
     "output_type": "execute_result"
    }
   ],
   "source": [
    "def normalize_text_field(doc):\n",
    "    directors_raw = doc['metadata'].get('directors')\n",
    "    writers_raw = doc['metadata'].get('writers')\n",
    "\n",
    "    # Nếu là None thì thay bằng chuỗi rỗng\n",
    "    directors = \" \".join([d.strip().lower() for d in directors_raw.split(',')]) if directors_raw else \"\"\n",
    "    writers = \" \".join([w.strip().lower() for w in writers_raw.split(',')]) if writers_raw else \"\"\n",
    "\n",
    "    description = doc.get('cleaned_description', '')\n",
    "    description = description.lower() if description else \"\"\n",
    "\n",
    "    return f\"{directors} {writers} {description}\"\n",
    "\n",
    "small_documents = all_documents[:10]\n",
    "corpus = []\n",
    "for doc in small_documents:\n",
    "    text = normalize_text_field(doc)\n",
    "    corpus.append(text)\n",
    "\n",
    "print(f\"Corpus length: {len(corpus)}\")\n",
    "print(f'Test some samples: ')\n",
    "corpus[:5]"
   ]
  },
  {
   "cell_type": "code",
   "execution_count": 9,
   "id": "04cbc511",
   "metadata": {},
   "outputs": [
    {
     "name": "stdout",
     "output_type": "stream",
     "text": [
      "Small corpus length: 10\n"
     ]
    }
   ],
   "source": [
    "from models.bow import BagOfWords\n",
    "\n",
    "print(f\"Small corpus length: {len(corpus)}\")\n",
    "\n",
    "# Initialize model\n",
    "bow = BagOfWords(\n",
    "    min_word_freq=1,\n",
    "    max_features=100,\n",
    "    tokenizer='whitespace'\n",
    ")\n",
    "\n",
    "bow_matrix = bow.fit_transform(corpus)"
   ]
  },
  {
   "cell_type": "code",
   "execution_count": 10,
   "id": "3e6035d3",
   "metadata": {},
   "outputs": [
    {
     "name": "stdout",
     "output_type": "stream",
     "text": [
      "\n",
      "Document 1: 'bertram bracken mary elizabeth braddon mary murillo mrs. henry wood isabel carlisl mistakenli believ husband richard love barbara hare leav two children noth correct report kill train wreck richard believ widow marri barbara month isabel long see children disguis get job gover son becom ill call mother isabel throw disguis goe comfort die arm discov isabel boy richard immedi forgiv left children isabel forgiv soon die grief'\n",
      "Tokens: ['bertram', 'bracken', 'mary', 'elizabeth', 'braddon', 'mary', 'murillo', 'mrs.', 'henry', 'wood', 'isabel', 'carlisl', 'mistakenli', 'believ', 'husband', 'richard', 'love', 'barbara', 'hare', 'leav', 'two', 'children', 'noth', 'correct', 'report', 'kill', 'train', 'wreck', 'richard', 'believ', 'widow', 'marri', 'barbara', 'month', 'isabel', 'long', 'see', 'children', 'disguis', 'get', 'job', 'gover', 'son', 'becom', 'ill', 'call', 'mother', 'isabel', 'throw', 'disguis', 'goe', 'comfort', 'die', 'arm', 'discov', 'isabel', 'boy', 'richard', 'immedi', 'forgiv', 'left', 'children', 'isabel', 'forgiv', 'soon', 'die', 'grief']\n",
      "Vector: [0 1 1 0 0 0 0 0 0 0 1 1 0 0 0 0 0 0 0 0 1 1 0 0 0 0 5 1 1 2 0 0 0 0 0 0 0\n",
      " 0 0 0 0 0 0 0 0 2 1 1 1 0 0 0 0 0 0 0 0 0 0 0 3 3 1 1 1 1 0 0 0 0 0 0 0 0\n",
      " 0 0 0 0 0 0 0 0 0 0 0 0 0 0 0 0 0 0 0 0 0 0 0 0 0 0]\n",
      "\n",
      "Document 2: 'frank lloyd leo ditrichstein fanny hatton frederic hatton j.e. nash ethel warren return studi europ make debut new york opera compani jean paurel world famou bariton star carlo sonino also member compani fall love ethel warn becom infatu amor singer paurel becom enchant ethel arous jealousi compani prima donna sabotini first act ethel hear paurel suffer attack throat rush backstag carlo urg sabotini follow make scene whereupon ethel indignantli announc engag paurel paurel unabl perform second act carlo take place vault stardom paurel diagnos never abl sing bianca retir singer paurel first love reveal carlo son plead singer give ethel boy sake much soul search paurel refut selfish way agre thu free ethel pledg marri'\n",
      "Tokens: ['frank', 'lloyd', 'leo', 'ditrichstein', 'fanny', 'hatton', 'frederic', 'hatton', 'j.e.', 'nash', 'ethel', 'warren', 'return', 'studi', 'europ', 'make', 'debut', 'new', 'york', 'opera', 'compani', 'jean', 'paurel', 'world', 'famou', 'bariton', 'star', 'carlo', 'sonino', 'also', 'member', 'compani', 'fall', 'love', 'ethel', 'warn', 'becom', 'infatu', 'amor', 'singer', 'paurel', 'becom', 'enchant', 'ethel', 'arous', 'jealousi', 'compani', 'prima', 'donna', 'sabotini', 'first', 'act', 'ethel', 'hear', 'paurel', 'suffer', 'attack', 'throat', 'rush', 'backstag', 'carlo', 'urg', 'sabotini', 'follow', 'make', 'scene', 'whereupon', 'ethel', 'indignantli', 'announc', 'engag', 'paurel', 'paurel', 'unabl', 'perform', 'second', 'act', 'carlo', 'take', 'place', 'vault', 'stardom', 'paurel', 'diagnos', 'never', 'abl', 'sing', 'bianca', 'retir', 'singer', 'paurel', 'first', 'love', 'reveal', 'carlo', 'son', 'plead', 'singer', 'give', 'ethel', 'boy', 'sake', 'much', 'soul', 'search', 'paurel', 'refut', 'selfish', 'way', 'agre', 'thu', 'free', 'ethel', 'pledg', 'marri']\n",
      "Vector: [0 2 0 8 0 0 0 0 0 0 1 0 7 1 1 0 0 0 0 0 0 2 1 0 0 0 0 0 0 0 1 2 1 0 0 0 0\n",
      " 0 0 0 0 0 0 0 0 0 0 1 0 3 4 0 0 0 0 0 0 0 0 0 0 0 0 0 0 0 1 3 2 1 1 1 1 0\n",
      " 0 0 0 0 0 0 0 0 0 0 0 0 0 0 0 0 0 0 0 0 0 0 0 0 0 0]\n",
      "\n",
      "Document 3: 'chester withey alice eyton juliet wilbur tompkins geneviev rutherford hale pamper youngest child read advertis women work farm increas food product world war modist make silk overal geneviev model russian ballet attir arriv hubbard ranch new york state chauffeur maid pet dog farmerett geneviev find chore difficult girl unfriendli bobbi youngest hubbard discov offic train camp equal discourag although tempt desert bobbi leav one night see home find geneviev cri potato patch togeth resolv patriot duti pri neighbor see togeth tell hubbard geneviev soldier geneviev remain silent bobbi ident banish ranch bobbi get furlough explain matter hubbard apolog geneviev bobbi propos plan marri return'\n",
      "Tokens: ['chester', 'withey', 'alice', 'eyton', 'juliet', 'wilbur', 'tompkins', 'geneviev', 'rutherford', 'hale', 'pamper', 'youngest', 'child', 'read', 'advertis', 'women', 'work', 'farm', 'increas', 'food', 'product', 'world', 'war', 'modist', 'make', 'silk', 'overal', 'geneviev', 'model', 'russian', 'ballet', 'attir', 'arriv', 'hubbard', 'ranch', 'new', 'york', 'state', 'chauffeur', 'maid', 'pet', 'dog', 'farmerett', 'geneviev', 'find', 'chore', 'difficult', 'girl', 'unfriendli', 'bobbi', 'youngest', 'hubbard', 'discov', 'offic', 'train', 'camp', 'equal', 'discourag', 'although', 'tempt', 'desert', 'bobbi', 'leav', 'one', 'night', 'see', 'home', 'find', 'geneviev', 'cri', 'potato', 'patch', 'togeth', 'resolv', 'patriot', 'duti', 'pri', 'neighbor', 'see', 'togeth', 'tell', 'hubbard', 'geneviev', 'soldier', 'geneviev', 'remain', 'silent', 'bobbi', 'ident', 'banish', 'ranch', 'bobbi', 'get', 'furlough', 'explain', 'matter', 'hubbard', 'apolog', 'geneviev', 'bobbi', 'propos', 'plan', 'marri', 'return']\n",
      "Vector: [0 0 0 0 1 1 0 0 0 0 1 2 0 0 0 7 1 0 0 0 0 0 1 1 1 0 0 1 0 0 1 1 1 5 0 0 0\n",
      " 0 0 0 0 0 0 0 0 0 1 0 0 0 0 4 2 0 0 0 0 0 0 0 0 0 0 0 0 1 0 0 0 0 0 0 0 1\n",
      " 1 1 1 1 1 0 0 0 0 0 0 0 0 0 0 0 0 0 0 0 0 0 0 0 0 0]\n",
      "\n",
      "Document 4: 'carl harbaugh carl harbaugh george scarborough celest hardin want set brother henri confirm bachelor colleg friend henrietta down believ wold good wife henri henrietta discov celest scheme decid play trick henrietta pose myra hayn escap lunat pretend love henri howev real myra hayn attend polit ralli henri declar intent run mayor becom convinc long lost lover also name henri complic ensu'\n",
      "Tokens: ['carl', 'harbaugh', 'carl', 'harbaugh', 'george', 'scarborough', 'celest', 'hardin', 'want', 'set', 'brother', 'henri', 'confirm', 'bachelor', 'colleg', 'friend', 'henrietta', 'down', 'believ', 'wold', 'good', 'wife', 'henri', 'henrietta', 'discov', 'celest', 'scheme', 'decid', 'play', 'trick', 'henrietta', 'pose', 'myra', 'hayn', 'escap', 'lunat', 'pretend', 'love', 'henri', 'howev', 'real', 'myra', 'hayn', 'attend', 'polit', 'ralli', 'henri', 'declar', 'intent', 'run', 'mayor', 'becom', 'convinc', 'long', 'lost', 'lover', 'also', 'name', 'henri', 'complic', 'ensu']\n",
      "Vector: [0 1 0 0 0 0 0 0 0 0 0 0 0 0 0 0 0 0 0 0 0 1 0 0 0 0 0 0 0 0 0 0 0 0 5 1 1\n",
      " 1 1 0 0 0 0 0 0 1 0 0 0 0 0 0 0 0 0 0 0 0 0 0 0 0 1 0 0 1 1 0 0 0 0 0 0 0\n",
      " 0 0 0 0 0 1 3 1 1 0 0 0 0 0 0 0 0 0 0 0 0 0 0 0 0 0]\n",
      "\n",
      "Document 5: 'e. magnus ingleton e. magnus ingleton i.a.r. wylie careless part johnni robert grow drudgeri marri life caus estrang johnni wife mari final break come johnni sick fever return home accus drunken mari johnni leav wife seek solac ann innkeep daughter two live happili togeth outbreak war england threaten johnni enlist sent front meantim mari littl babi seek ann ask husband money take care child mutual understand spring two women upon johnni arriv home self sacrif ann disappear johnni return wife child'\n",
      "Tokens: ['e.', 'magnus', 'ingleton', 'e.', 'magnus', 'ingleton', 'i.a.r.', 'wylie', 'careless', 'part', 'johnni', 'robert', 'grow', 'drudgeri', 'marri', 'life', 'caus', 'estrang', 'johnni', 'wife', 'mari', 'final', 'break', 'come', 'johnni', 'sick', 'fever', 'return', 'home', 'accus', 'drunken', 'mari', 'johnni', 'leav', 'wife', 'seek', 'solac', 'ann', 'innkeep', 'daughter', 'two', 'live', 'happili', 'togeth', 'outbreak', 'war', 'england', 'threaten', 'johnni', 'enlist', 'sent', 'front', 'meantim', 'mari', 'littl', 'babi', 'seek', 'ann', 'ask', 'husband', 'money', 'take', 'care', 'child', 'mutual', 'understand', 'spring', 'two', 'women', 'upon', 'johnni', 'arriv', 'home', 'self', 'sacrif', 'ann', 'disappear', 'johnni', 'return', 'wife', 'child']\n",
      "Vector: [0 0 2 0 0 2 1 0 0 0 1 0 0 1 0 0 2 7 1 0 1 0 0 0 0 1 0 0 0 0 2 0 0 0 0 0 3\n",
      " 0 0 0 0 0 0 0 0 0 1 0 0 0 0 0 1 1 0 0 0 0 0 0 0 0 0 0 0 0 0 0 0 0 0 0 0 1\n",
      " 1 0 0 0 0 0 0 0 0 3 3 1 1 0 0 0 0 0 0 0 0 0 0 0 0 0]\n",
      "\n",
      "Document 6: 'harry lambart cyrus townsend brady eugene mullin miss olivia martindal dinner announc longer romanc american life immedi arous storm protest nevertheless describ assembl compani day old men scale height hazard win women ad way would wish woo even stroll ground muffl figur step seiz forc wait race car bermuda apart unknown unmask prove handsom gentleman immacul even cloth quietli escort chair hand polic whistl pistol reassur beg listen say bid call anxiou rel simpli tell safe ask come get without polic attract man magnet person glamour adventur obey tell seen far west face guid rough gold mine camp life wrest fortun hill come east meet narr take right present girl sway overpow emot aris plead suit eloqu passion surrend see eye dawn love sweep arm kiss door burst open martindal other enter olivia calmli introduc ask gentleman name billi william well known millionair speechless papa fianc'\n",
      "Tokens: ['harry', 'lambart', 'cyrus', 'townsend', 'brady', 'eugene', 'mullin', 'miss', 'olivia', 'martindal', 'dinner', 'announc', 'longer', 'romanc', 'american', 'life', 'immedi', 'arous', 'storm', 'protest', 'nevertheless', 'describ', 'assembl', 'compani', 'day', 'old', 'men', 'scale', 'height', 'hazard', 'win', 'women', 'ad', 'way', 'would', 'wish', 'woo', 'even', 'stroll', 'ground', 'muffl', 'figur', 'step', 'seiz', 'forc', 'wait', 'race', 'car', 'bermuda', 'apart', 'unknown', 'unmask', 'prove', 'handsom', 'gentleman', 'immacul', 'even', 'cloth', 'quietli', 'escort', 'chair', 'hand', 'polic', 'whistl', 'pistol', 'reassur', 'beg', 'listen', 'say', 'bid', 'call', 'anxiou', 'rel', 'simpli', 'tell', 'safe', 'ask', 'come', 'get', 'without', 'polic', 'attract', 'man', 'magnet', 'person', 'glamour', 'adventur', 'obey', 'tell', 'seen', 'far', 'west', 'face', 'guid', 'rough', 'gold', 'mine', 'camp', 'life', 'wrest', 'fortun', 'hill', 'come', 'east', 'meet', 'narr', 'take', 'right', 'present', 'girl', 'sway', 'overpow', 'emot', 'aris', 'plead', 'suit', 'eloqu', 'passion', 'surrend', 'see', 'eye', 'dawn', 'love', 'sweep', 'arm', 'kiss', 'door', 'burst', 'open', 'martindal', 'other', 'enter', 'olivia', 'calmli', 'introduc', 'ask', 'gentleman', 'name', 'billi', 'william', 'well', 'known', 'millionair', 'speechless', 'papa', 'fianc']\n",
      "Vector: [0 0 0 0 1 0 2 0 0 0 0 1 0 1 0 0 0 0 2 0 0 1 0 0 2 2 0 1 0 0 0 0 0 0 0 0 0\n",
      " 0 0 1 0 0 0 0 0 0 0 0 0 1 0 0 0 0 1 0 0 0 0 0 0 0 0 1 1 0 0 0 0 0 1 0 0 1\n",
      " 0 0 1 0 0 0 0 0 1 0 0 0 0 1 2 2 0 0 0 0 0 0 0 0 0 0]\n",
      "\n",
      "Document 7: 'george melford beulah marie dix cosmo hamilton marcel middleton small town parent sacrific send fashion finish school friend noel parkton invit new york marcel father mortgag hous buy expens cloth noel lover proposit marcel noel ask leav marcel receiv word parent die automobil accid goe aunt hous feel like unpaid servant return new york left famili although luck bridg good first soon lose everyth cleveland buchanan cynic millionair offer pay debt indignantli refus work model live errand girl kati help care invalid brother stung reject cleveland chang life help establish summer camp poor boy take kati brother thu cure cleveland marcel respect marri'\n",
      "Tokens: ['george', 'melford', 'beulah', 'marie', 'dix', 'cosmo', 'hamilton', 'marcel', 'middleton', 'small', 'town', 'parent', 'sacrific', 'send', 'fashion', 'finish', 'school', 'friend', 'noel', 'parkton', 'invit', 'new', 'york', 'marcel', 'father', 'mortgag', 'hous', 'buy', 'expens', 'cloth', 'noel', 'lover', 'proposit', 'marcel', 'noel', 'ask', 'leav', 'marcel', 'receiv', 'word', 'parent', 'die', 'automobil', 'accid', 'goe', 'aunt', 'hous', 'feel', 'like', 'unpaid', 'servant', 'return', 'new', 'york', 'left', 'famili', 'although', 'luck', 'bridg', 'good', 'first', 'soon', 'lose', 'everyth', 'cleveland', 'buchanan', 'cynic', 'millionair', 'offer', 'pay', 'debt', 'indignantli', 'refus', 'work', 'model', 'live', 'errand', 'girl', 'kati', 'help', 'care', 'invalid', 'brother', 'stung', 'reject', 'cleveland', 'chang', 'life', 'help', 'establish', 'summer', 'camp', 'poor', 'boy', 'take', 'kati', 'brother', 'thu', 'cure', 'cleveland', 'marcel', 'respect', 'marri']\n",
      "Vector: [0 0 0 0 1 0 1 1 0 0 1 0 0 1 0 0 0 0 0 0 0 0 2 0 0 1 0 0 1 1 1 0 2 0 0 1 0\n",
      " 0 0 0 5 0 0 0 0 0 1 1 1 0 0 0 0 0 0 0 0 0 0 0 0 0 0 0 0 0 0 0 1 0 0 1 0 0\n",
      " 0 0 1 1 0 2 0 1 0 0 0 0 1 0 0 0 3 3 1 1 0 0 0 0 0 0]\n",
      "\n",
      "Document 8: '  know examin made book reveal pecul cadwel confess daughter enlist aid sweetheart employ offic dori save father disgrac result howev crime shift shoulder boy sent prison although hall employ believ innoc later cadwel compel dori becom engag lane man wealth determin wed one dori fascin harri one prison guard induc aid plan free turn promis becom harri wife escap jail aid keeper two join dori make break liberti girl auto pursuit taken run fight ensu harri meet death cadwel learn escap bring captur fugit dori wed hunt two verg desper accident meet hall resolv shield father longer dori tell hall truth latter promptli take girl escap prison see friend governor cadwel present interview father denounc dori stori slip tongu reveal truth real culprit overtaken retribut dori know happi'\n",
      "Tokens: ['know', 'examin', 'made', 'book', 'reveal', 'pecul', 'cadwel', 'confess', 'daughter', 'enlist', 'aid', 'sweetheart', 'employ', 'offic', 'dori', 'save', 'father', 'disgrac', 'result', 'howev', 'crime', 'shift', 'shoulder', 'boy', 'sent', 'prison', 'although', 'hall', 'employ', 'believ', 'innoc', 'later', 'cadwel', 'compel', 'dori', 'becom', 'engag', 'lane', 'man', 'wealth', 'determin', 'wed', 'one', 'dori', 'fascin', 'harri', 'one', 'prison', 'guard', 'induc', 'aid', 'plan', 'free', 'turn', 'promis', 'becom', 'harri', 'wife', 'escap', 'jail', 'aid', 'keeper', 'two', 'join', 'dori', 'make', 'break', 'liberti', 'girl', 'auto', 'pursuit', 'taken', 'run', 'fight', 'ensu', 'harri', 'meet', 'death', 'cadwel', 'learn', 'escap', 'bring', 'captur', 'fugit', 'dori', 'wed', 'hunt', 'two', 'verg', 'desper', 'accident', 'meet', 'hall', 'resolv', 'shield', 'father', 'longer', 'dori', 'tell', 'hall', 'truth', 'latter', 'promptli', 'take', 'girl', 'escap', 'prison', 'see', 'friend', 'governor', 'cadwel', 'present', 'interview', 'father', 'denounc', 'dori', 'stori', 'slip', 'tongu', 'reveal', 'truth', 'real', 'culprit', 'overtaken', 'retribut', 'dori', 'know', 'happi']\n",
      "Vector: [0 2 2 0 2 0 0 3 8 0 0 1 0 1 0 0 0 0 0 0 0 0 0 2 1 0 0 0 0 0 0 1 0 0 0 1 1\n",
      " 3 1 1 0 0 0 0 0 1 0 1 0 0 0 0 0 0 2 4 3 3 3 0 0 0 0 0 0 0 0 0 0 2 0 0 1 0\n",
      " 0 1 0 1 0 0 0 0 0 0 0 0 0 0 0 0 0 0 0 0 3 1 1 2 0 0]\n",
      "\n",
      "Document 9: 'allan dwan allan dwan robert shirley naomi girl studio new york artist quarter possess superabund vital desir continu frolic adventur one night gay parti naomi effervesc spirit deceiv one men think far unconvent idea companion tell sort girl think insist prove even make wager effect trick naomi realli quit unsophist accompani hotel question reput two innoc wrongdo captur polic raid naomi unpleas experi night court friend come aid releas long freder harmon broker come life two fall love marri birth babi complet naomi charact care child husband home husband howev settl home life still much inclin gaieti set becom acquaint naomi refus take part revel bohemian crowd goe forth soon meet helen carew woman past without conscienc fascin partli amus partli mercenari reason eventu harmon infatu woman becom known naomi heartbroken particularli harmon ask divorc marri helen refus helen anxiou get man entir clutch enter plot crook detect wherebi naomi caught compromis situat thu give husband ground divorc detect pick convict sing sing mean decoy messag naomi induc hotel room man sing sing wait two room togeth raid newspap report photograph flashlight naomi arm convict obtain husband bring suit divorc offer evid stori wit raid flashlight photograph also ask custodi child naomi startl judg spectat declar allow keep child harmon father judg howev suspect naomi sacrif reput order keep babi call privat offic get truth meantim unexpect develop affair helen man sing sing lover went prison unpleasantli surpris detect use bring life convict helen room tri renew old associ harmon come see helen hastili hide jailbird talk harmon convict come tell harmon woman past connect horrifi revel helen true charact harmon goe life forev cours time succe win way back home'\n",
      "Tokens: ['allan', 'dwan', 'allan', 'dwan', 'robert', 'shirley', 'naomi', 'girl', 'studio', 'new', 'york', 'artist', 'quarter', 'possess', 'superabund', 'vital', 'desir', 'continu', 'frolic', 'adventur', 'one', 'night', 'gay', 'parti', 'naomi', 'effervesc', 'spirit', 'deceiv', 'one', 'men', 'think', 'far', 'unconvent', 'idea', 'companion', 'tell', 'sort', 'girl', 'think', 'insist', 'prove', 'even', 'make', 'wager', 'effect', 'trick', 'naomi', 'realli', 'quit', 'unsophist', 'accompani', 'hotel', 'question', 'reput', 'two', 'innoc', 'wrongdo', 'captur', 'polic', 'raid', 'naomi', 'unpleas', 'experi', 'night', 'court', 'friend', 'come', 'aid', 'releas', 'long', 'freder', 'harmon', 'broker', 'come', 'life', 'two', 'fall', 'love', 'marri', 'birth', 'babi', 'complet', 'naomi', 'charact', 'care', 'child', 'husband', 'home', 'husband', 'howev', 'settl', 'home', 'life', 'still', 'much', 'inclin', 'gaieti', 'set', 'becom', 'acquaint', 'naomi', 'refus', 'take', 'part', 'revel', 'bohemian', 'crowd', 'goe', 'forth', 'soon', 'meet', 'helen', 'carew', 'woman', 'past', 'without', 'conscienc', 'fascin', 'partli', 'amus', 'partli', 'mercenari', 'reason', 'eventu', 'harmon', 'infatu', 'woman', 'becom', 'known', 'naomi', 'heartbroken', 'particularli', 'harmon', 'ask', 'divorc', 'marri', 'helen', 'refus', 'helen', 'anxiou', 'get', 'man', 'entir', 'clutch', 'enter', 'plot', 'crook', 'detect', 'wherebi', 'naomi', 'caught', 'compromis', 'situat', 'thu', 'give', 'husband', 'ground', 'divorc', 'detect', 'pick', 'convict', 'sing', 'sing', 'mean', 'decoy', 'messag', 'naomi', 'induc', 'hotel', 'room', 'man', 'sing', 'sing', 'wait', 'two', 'room', 'togeth', 'raid', 'newspap', 'report', 'photograph', 'flashlight', 'naomi', 'arm', 'convict', 'obtain', 'husband', 'bring', 'suit', 'divorc', 'offer', 'evid', 'stori', 'wit', 'raid', 'flashlight', 'photograph', 'also', 'ask', 'custodi', 'child', 'naomi', 'startl', 'judg', 'spectat', 'declar', 'allow', 'keep', 'child', 'harmon', 'father', 'judg', 'howev', 'suspect', 'naomi', 'sacrif', 'reput', 'order', 'keep', 'babi', 'call', 'privat', 'offic', 'get', 'truth', 'meantim', 'unexpect', 'develop', 'affair', 'helen', 'man', 'sing', 'sing', 'lover', 'went', 'prison', 'unpleasantli', 'surpris', 'detect', 'use', 'bring', 'life', 'convict', 'helen', 'room', 'tri', 'renew', 'old', 'associ', 'harmon', 'come', 'see', 'helen', 'hastili', 'hide', 'jailbird', 'talk', 'harmon', 'convict', 'come', 'tell', 'harmon', 'woman', 'past', 'connect', 'horrifi', 'revel', 'helen', 'true', 'charact', 'harmon', 'goe', 'life', 'forev', 'cours', 'time', 'succe', 'win', 'way', 'back', 'home']\n",
      "Vector: [12  2  3  0  2  3  4  1  0  8  2  1  0  1  6  0  3  0  4  7  4  1  1  2\n",
      "  2  2  0  2  2  0  0  1  1  0  0  1  0  0  2  3  0  0  0  0  0  0  0  0\n",
      "  1  0  0  0  1  0  1  0  1  1  0  4  0  0  1  1  1  0  1  0  0  0  1  1\n",
      "  0  0  0  1  0  0  2  0  0  1  0  0  0  2  1  1  1  1  0  0  1  2  0  0\n",
      "  2  1  3  3]\n",
      "\n",
      "Document 10: 'j. searle dawley harriet beecher stowe j. searle dawley kentucki plantat owner georg shelbi forc sell sever slave one eliza harri escap across ici ohio river child kindli old uncl tom howev sold southern slave trader begin voyag mississippi river trip rescu littl eva clair river gratitud girl father buy clair home new orlean uncl tom littl eva mischiev littl slave name topsi becom close friend eva extract promis father free slave delic eva becom ill die father kill soon afterward clair promis goe unfulfil uncl tom sold brutal simon legre continu beaten uncl tom final die georg shelbi arriv offer repurchas slave take home death uncl tom see vision eva beckon join heaven'\n",
      "Tokens: ['j.', 'searle', 'dawley', 'harriet', 'beecher', 'stowe', 'j.', 'searle', 'dawley', 'kentucki', 'plantat', 'owner', 'georg', 'shelbi', 'forc', 'sell', 'sever', 'slave', 'one', 'eliza', 'harri', 'escap', 'across', 'ici', 'ohio', 'river', 'child', 'kindli', 'old', 'uncl', 'tom', 'howev', 'sold', 'southern', 'slave', 'trader', 'begin', 'voyag', 'mississippi', 'river', 'trip', 'rescu', 'littl', 'eva', 'clair', 'river', 'gratitud', 'girl', 'father', 'buy', 'clair', 'home', 'new', 'orlean', 'uncl', 'tom', 'littl', 'eva', 'mischiev', 'littl', 'slave', 'name', 'topsi', 'becom', 'close', 'friend', 'eva', 'extract', 'promis', 'father', 'free', 'slave', 'delic', 'eva', 'becom', 'ill', 'die', 'father', 'kill', 'soon', 'afterward', 'clair', 'promis', 'goe', 'unfulfil', 'uncl', 'tom', 'sold', 'brutal', 'simon', 'legre', 'continu', 'beaten', 'uncl', 'tom', 'final', 'die', 'georg', 'shelbi', 'arriv', 'offer', 'repurchas', 'slave', 'take', 'home', 'death', 'uncl', 'tom', 'see', 'vision', 'eva', 'beckon', 'join', 'heaven']\n",
      "Vector: [0 2 0 0 1 2 0 3 0 0 0 1 0 1 0 0 1 0 0 0 0 0 1 1 0 0 0 0 1 2 0 0 0 0 0 1 0\n",
      " 1 1 0 0 5 5 5 5 0 0 0 1 0 0 0 0 3 0 0 0 0 1 0 0 0 0 0 0 0 0 0 0 0 0 0 1 0\n",
      " 1 0 0 0 0 0 0 0 1 0 0 0 0 1 0 0 0 0 1 0 0 2 0 0 0 0]\n"
     ]
    }
   ],
   "source": [
    "for i, doc in enumerate(corpus):\n",
    "    print(f\"\\nDocument {i+1}: '{doc}'\")\n",
    "    print(f\"Tokens: {bow.get_document_tokens(doc)}\")\n",
    "    print(f\"Vector: {bow_matrix[i]}\")"
   ]
  },
  {
   "cell_type": "code",
   "execution_count": 11,
   "id": "a02f9654",
   "metadata": {},
   "outputs": [
    {
     "name": "stdout",
     "output_type": "stream",
     "text": [
      "Vocabulary size: 100\n",
      "Total words in corpus: 1200\n",
      "Unique words in corpus: 709\n",
      "Top 10 most common words:\n",
      "   1. 'naomi          ':   12\n",
      "   2. 'becom          ':   10\n",
      "   3. 'two            ':    8\n",
      "   4. 'paurel         ':    8\n",
      "   5. 'girl           ':    8\n",
      "   6. 'home           ':    8\n",
      "   7. 'life           ':    8\n",
      "   8. 'father         ':    8\n",
      "   9. 'dori           ':    8\n",
      "  10. 'harmon         ':    8\n"
     ]
    }
   ],
   "source": [
    "bow.print_vocabulary_info()"
   ]
  },
  {
   "cell_type": "markdown",
   "id": "be9d0f76",
   "metadata": {},
   "source": [
    "# Dimensionality Reduction by SVD"
   ]
  },
  {
   "cell_type": "code",
   "execution_count": 12,
   "id": "e97770ee",
   "metadata": {},
   "outputs": [
    {
     "data": {
      "text/plain": [
       "((10, 10), (10, 100))"
      ]
     },
     "execution_count": 12,
     "metadata": {},
     "output_type": "execute_result"
    }
   ],
   "source": [
    "from models.svd import SVDModel\n",
    "\n",
    "dim_reduc_model = SVDModel(n_components=50, random_state=11)\n",
    "matrix =  dim_reduc_model.fit_transform(bow_matrix)\n",
    "matrix.shape, bow_matrix.shape"
   ]
  },
  {
   "cell_type": "code",
   "execution_count": 13,
   "id": "dce8d357",
   "metadata": {},
   "outputs": [
    {
     "data": {
      "text/plain": [
       "(10, 10)"
      ]
     },
     "execution_count": 13,
     "metadata": {},
     "output_type": "execute_result"
    }
   ],
   "source": [
    "len(matrix), len(small_documents)"
   ]
  },
  {
   "cell_type": "code",
   "execution_count": 14,
   "id": "9ff8fc9e",
   "metadata": {},
   "outputs": [],
   "source": [
    "from preprocessing.data_models import QdrantPoint\n",
    "\n",
    "list_of_points = []\n",
    "for idx in range(len(matrix)):\n",
    "    point = QdrantPoint(\n",
    "        id = small_documents[idx]['id'],\n",
    "        text = corpus[idx],\n",
    "        vector = matrix[idx],\n",
    "        metadata = small_documents[idx]['metadata']\n",
    "    )\n",
    "    list_of_points.append(point)"
   ]
  },
  {
   "cell_type": "code",
   "execution_count": 15,
   "id": "ada80ee7",
   "metadata": {},
   "outputs": [
    {
     "data": {
      "text/plain": [
       "[QdrantPoint(id='tt0006621', text='bertram bracken mary elizabeth braddon mary murillo mrs. henry wood isabel carlisl mistakenli believ husband richard love barbara hare leav two children noth correct report kill train wreck richard believ widow marri barbara month isabel long see children disguis get job gover son becom ill call mother isabel throw disguis goe comfort die arm discov isabel boy richard immedi forgiv left children isabel forgiv soon die grief', metadata=FilmMetadata(film_name='East Lynne', image_link=HttpUrl('https://m.media-amazon.com/images/M/MV5BM2E3MDgzNjItZjMzYi00ZWZiLTgwMWMtNWM2ZDAwOTg0MzBhXkEyXkFqcGc@.jpg'), is_adult=0, start_year=1916, runtime_minutes=50, genres='Drama', rating=5.5, votes=51, directors='Bertram Bracken', writers='Mary Elizabeth Braddon, Mary Murillo, Mrs. Henry Wood'), vector=[2.226082771608802, -0.1746777588553621, -1.6674290454267546, 0.6733490977776098, -1.2844510658153454, 4.052384376210664, -4.59875629141452, 3.9563347576488432, 0.6910475599128955, -2.3884215166917363e-15]),\n",
       " QdrantPoint(id='tt0011244', text='frank lloyd leo ditrichstein fanny hatton frederic hatton j.e. nash ethel warren return studi europ make debut new york opera compani jean paurel world famou bariton star carlo sonino also member compani fall love ethel warn becom infatu amor singer paurel becom enchant ethel arous jealousi compani prima donna sabotini first act ethel hear paurel suffer attack throat rush backstag carlo urg sabotini follow make scene whereupon ethel indignantli announc engag paurel paurel unabl perform second act carlo take place vault stardom paurel diagnos never abl sing bianca retir singer paurel first love reveal carlo son plead singer give ethel boy sake much soul search paurel refut selfish way agre thu free ethel pledg marri', metadata=FilmMetadata(film_name='The Great Lover', image_link=HttpUrl('https://m.media-amazon.com/images/M/MV5BM2E3MTJkMTYtODdkYy00ODczLWEwMzQtZWQ4NzdjOTY2NWZiXkEyXkFqcGc@.jpg'), is_adult=0, start_year=1920, runtime_minutes=60, genres='Drama', rating=None, votes=None, directors='Frank Lloyd', writers='Leo Ditrichstein, Fanny Hatton, Frederic Hatton, J.E. Nash'), vector=[3.187516795187109, -9.851970293473531, 6.020727224281498, -1.7992482655002306, 0.7247108030356066, -1.4874771424549664, -0.039019521529788756, 0.2900970357361326, 0.19620034719470433, -2.388421516691743e-15]),\n",
       " QdrantPoint(id='tt0010368', text='chester withey alice eyton juliet wilbur tompkins geneviev rutherford hale pamper youngest child read advertis women work farm increas food product world war modist make silk overal geneviev model russian ballet attir arriv hubbard ranch new york state chauffeur maid pet dog farmerett geneviev find chore difficult girl unfriendli bobbi youngest hubbard discov offic train camp equal discourag although tempt desert bobbi leav one night see home find geneviev cri potato patch togeth resolv patriot duti pri neighbor see togeth tell hubbard geneviev soldier geneviev remain silent bobbi ident banish ranch bobbi get furlough explain matter hubbard apolog geneviev bobbi propos plan marri return', metadata=FilmMetadata(film_name='Little Comrade', image_link=HttpUrl('https://m.media-amazon.com/images/M/MV5BM2E4OWRkM2ItNGQ5MS00NzVhLWE4ZGEtMjhkODQxNGY3MzU5XkEyXkFqcGc@.jpg'), is_adult=0, start_year=1919, runtime_minutes=50, genres='Comedy', rating=None, votes=None, directors='Chester Withey', writers='Alice Eyton, Juliet Wilbur Tompkins'), vector=[2.3185426518428947, -0.16757045365793566, -4.282458154961006, 3.9074364457927397, 7.483091586804647, -2.4645861624022203, -0.11953124965169487, 0.18150221685846724, 0.4906090755030759, -2.3884215166917438e-15]),\n",
       " QdrantPoint(id='tt0007625', text='carl harbaugh carl harbaugh george scarborough celest hardin want set brother henri confirm bachelor colleg friend henrietta down believ wold good wife henri henrietta discov celest scheme decid play trick henrietta pose myra hayn escap lunat pretend love henri howev real myra hayn attend polit ralli henri declar intent run mayor becom convinc long lost lover also name henri complic ensu', metadata=FilmMetadata(film_name='All for a Husband', image_link=HttpUrl('https://m.media-amazon.com/images/M/MV5BM2E4OWYzMjUtNmU1NC00OTNmLWIwOTMtOWM0MTZiYzQyMTI2XkEyXkFqcGc@.jpg'), is_adult=0, start_year=1917, runtime_minutes=60, genres='Comedy', rating=None, votes=None, directors='Carl Harbaugh', writers='Carl Harbaugh, George Scarborough'), vector=[2.6459996160912667, -0.041447665220238204, -0.9998167306758828, 0.6579987423567644, -1.3821243044490812, 2.580780318519999, -1.6528175000503469, -5.3576796407217655, 2.350987200374327, -2.3884215166917434e-15]),\n",
       " QdrantPoint(id='tt0007704', text='e. magnus ingleton e. magnus ingleton i.a.r. wylie careless part johnni robert grow drudgeri marri life caus estrang johnni wife mari final break come johnni sick fever return home accus drunken mari johnni leav wife seek solac ann innkeep daughter two live happili togeth outbreak war england threaten johnni enlist sent front meantim mari littl babi seek ann ask husband money take care child mutual understand spring two women upon johnni arriv home self sacrif ann disappear johnni return wife child', metadata=FilmMetadata(film_name='The Birth of Patriotism', image_link=HttpUrl('https://m.media-amazon.com/images/M/MV5BM2E5MzQzOWEtNTgyMC00ZWYwLWJhOTktYWRmMGUxZTYwZGRmXkEyXkFqcGc@.jpg'), is_adult=0, start_year=1917, runtime_minutes=50, genres='Drama,War', rating=None, votes=None, directors='E. Magnus Ingleton', writers='E. Magnus Ingleton, I.A.R. Wylie'), vector=[1.4242366224726584, -0.03715379555159215, -3.7866858505968737, 1.7326207638685476, -5.944201780382984, -5.857302405413741, 0.2934828088446018, 0.6653754566612848, 0.4783537021875826, -2.3884215166917434e-15]),\n",
       " QdrantPoint(id='tt0005463', text='harry lambart cyrus townsend brady eugene mullin miss olivia martindal dinner announc longer romanc american life immedi arous storm protest nevertheless describ assembl compani day old men scale height hazard win women ad way would wish woo even stroll ground muffl figur step seiz forc wait race car bermuda apart unknown unmask prove handsom gentleman immacul even cloth quietli escort chair hand polic whistl pistol reassur beg listen say bid call anxiou rel simpli tell safe ask come get without polic attract man magnet person glamour adventur obey tell seen far west face guid rough gold mine camp life wrest fortun hill come east meet narr take right present girl sway overpow emot aris plead suit eloqu passion surrend see eye dawn love sweep arm kiss door burst open martindal other enter olivia calmli introduc ask gentleman name billi william well known millionair speechless papa fianc', metadata=FilmMetadata(film_name='The Heights of Hazard', image_link=HttpUrl('https://m.media-amazon.com/images/M/MV5BM2EwNzBmMTktMWY1Yy00ZWIzLTlkNjQtOGNmMWE2NmI5MjJiXkEyXkFqcGc@.jpg'), is_adult=0, start_year=1915, runtime_minutes=50, genres='Drama', rating=None, votes=None, directors='Harry Lambart', writers='Cyrus Townsend Brady, Eugene Mullin'), vector=[0.9261233484584894, -0.37493976787618116, -1.2044713349033782, 0.9317630395675209, -0.6864853242586055, 1.380036465494063, -0.3839177324273839, -1.5354367740772323, -5.438019905849944, -2.3884215166917426e-15]),\n",
       " QdrantPoint(id='tt0010452', text='george melford beulah marie dix cosmo hamilton marcel middleton small town parent sacrific send fashion finish school friend noel parkton invit new york marcel father mortgag hous buy expens cloth noel lover proposit marcel noel ask leav marcel receiv word parent die automobil accid goe aunt hous feel like unpaid servant return new york left famili although luck bridg good first soon lose everyth cleveland buchanan cynic millionair offer pay debt indignantli refus work model live errand girl kati help care invalid brother stung reject cleveland chang life help establish summer camp poor boy take kati brother thu cure cleveland marcel respect marri', metadata=FilmMetadata(film_name='Men, Women, and Money', image_link=HttpUrl('https://m.media-amazon.com/images/M/MV5BM2EwZTc2ZWUtN2NiYS00MjI4LTk3OTctNmZhZGQ1NDdjMjlkXkEyXkFqcGc@.jpg'), is_adult=0, start_year=1919, runtime_minutes=50, genres='Drama', rating=None, votes=None, directors='George Melford', writers='Beulah Marie Dix, Cosmo Hamilton'), vector=[2.1216578311738847, -0.4754363357522701, -1.7870322684430848, 0.37153162468574213, -0.8793120340039261, 3.897877522085762, 6.387127885470182, 1.3276460554249911, 0.7657171522857477, -2.3884215166917434e-15]),\n",
       " QdrantPoint(id='tt0005134', text='  know examin made book reveal pecul cadwel confess daughter enlist aid sweetheart employ offic dori save father disgrac result howev crime shift shoulder boy sent prison although hall employ believ innoc later cadwel compel dori becom engag lane man wealth determin wed one dori fascin harri one prison guard induc aid plan free turn promis becom harri wife escap jail aid keeper two join dori make break liberti girl auto pursuit taken run fight ensu harri meet death cadwel learn escap bring captur fugit dori wed hunt two verg desper accident meet hall resolv shield father longer dori tell hall truth latter promptli take girl escap prison see friend governor cadwel present interview father denounc dori stori slip tongu reveal truth real culprit overtaken retribut dori know happi', metadata=FilmMetadata(film_name='The Coquette', image_link=HttpUrl('https://m.media-amazon.com/images/M/MV5BM2ExZjc1M2QtNWE4MS00NmY2LTkzNmEtNzc2MjA2MmFlMDY1XkEyXkFqcGc@.jpg'), is_adult=0, start_year=1915, runtime_minutes=None, genres='Drama', rating=None, votes=None, directors=None, writers=None), vector=[1.752139554219561, 7.288073134055653, 8.367187399591648, 3.4630197697818117, 0.07332174005879619, -0.8460738496912987, 0.28449065223879794, 0.4083369376342858, 0.11302675287683109, -2.388421516691743e-15]),\n",
       " QdrantPoint(id='tt0006679', text='allan dwan allan dwan robert shirley naomi girl studio new york artist quarter possess superabund vital desir continu frolic adventur one night gay parti naomi effervesc spirit deceiv one men think far unconvent idea companion tell sort girl think insist prove even make wager effect trick naomi realli quit unsophist accompani hotel question reput two innoc wrongdo captur polic raid naomi unpleas experi night court friend come aid releas long freder harmon broker come life two fall love marri birth babi complet naomi charact care child husband home husband howev settl home life still much inclin gaieti set becom acquaint naomi refus take part revel bohemian crowd goe forth soon meet helen carew woman past without conscienc fascin partli amus partli mercenari reason eventu harmon infatu woman becom known naomi heartbroken particularli harmon ask divorc marri helen refus helen anxiou get man entir clutch enter plot crook detect wherebi naomi caught compromis situat thu give husband ground divorc detect pick convict sing sing mean decoy messag naomi induc hotel room man sing sing wait two room togeth raid newspap report photograph flashlight naomi arm convict obtain husband bring suit divorc offer evid stori wit raid flashlight photograph also ask custodi child naomi startl judg spectat declar allow keep child harmon father judg howev suspect naomi sacrif reput order keep babi call privat offic get truth meantim unexpect develop affair helen man sing sing lover went prison unpleasantli surpris detect use bring life convict helen room tri renew old associ harmon come see helen hastili hide jailbird talk harmon convict come tell harmon woman past connect horrifi revel helen true charact harmon goe life forev cours time succe win way back home', metadata=FilmMetadata(film_name='Fifty-Fifty', image_link=HttpUrl('https://m.media-amazon.com/images/M/MV5BM2EzNjNmM2YtNjE5ZS00OGNmLTgxZDAtOTdlMGNiOTViYmU5XkEyXkFqcGc@.jpg'), is_adult=0, start_year=1916, runtime_minutes=55, genres='Drama', rating=5.2, votes=41, directors='Allan Dwan', writers='Allan Dwan, Robert Shirley'), vector=[-19.084937642108844, -0.5289552355237307, 0.26087988164431003, -0.3673414745355512, 0.3250420337891757, 0.09274127979386727, -0.061414276010809205, -0.03743609481954177, 0.3646053220494985, -2.3884215166917473e-15]),\n",
       " QdrantPoint(id='tt0009741', text='j. searle dawley harriet beecher stowe j. searle dawley kentucki plantat owner georg shelbi forc sell sever slave one eliza harri escap across ici ohio river child kindli old uncl tom howev sold southern slave trader begin voyag mississippi river trip rescu littl eva clair river gratitud girl father buy clair home new orlean uncl tom littl eva mischiev littl slave name topsi becom close friend eva extract promis father free slave delic eva becom ill die father kill soon afterward clair promis goe unfulfil uncl tom sold brutal simon legre continu beaten uncl tom final die georg shelbi arriv offer repurchas slave take home death uncl tom see vision eva beckon join heaven', metadata=FilmMetadata(film_name=\"Uncle Tom's Cabin\", image_link=HttpUrl('https://m.media-amazon.com/images/M/MV5BM2EzNTcyMjctNzg5OC00MjZmLWIzODUtNzMwMDc2MzhjNjE0XkEyXkFqcGc@.jpg'), is_adult=0, start_year=1918, runtime_minutes=50, genres='Drama', rating=5.8, votes=18, directors='J. Searle Dawley', writers='Harriet Beecher Stowe, J. Searle Dawley'), vector=[2.4826384510542203, 4.364078171855187, -0.9209011205104751, -9.571129743794955, 1.5704083452217075, -1.3483804021421195, -0.10964477546904908, 0.10126004965454657, -0.012527206534719112, -2.3884215166917434e-15])]"
      ]
     },
     "execution_count": 15,
     "metadata": {},
     "output_type": "execute_result"
    }
   ],
   "source": [
    "list_of_points"
   ]
  }
 ],
 "metadata": {
  "kernelspec": {
   "display_name": "base",
   "language": "python",
   "name": "python3"
  },
  "language_info": {
   "codemirror_mode": {
    "name": "ipython",
    "version": 3
   },
   "file_extension": ".py",
   "mimetype": "text/x-python",
   "name": "python",
   "nbconvert_exporter": "python",
   "pygments_lexer": "ipython3",
   "version": "3.12.4"
  }
 },
 "nbformat": 4,
 "nbformat_minor": 5
}
